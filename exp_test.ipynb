{
 "cells": [
  {
   "cell_type": "code",
   "execution_count": 33,
   "metadata": {},
   "outputs": [
    {
     "name": "stdout",
     "output_type": "stream",
     "text": [
      "Model Point: [  1.   1. -97.   1.]\n",
      "View Point: [   1.    1. -100.    1.]\n",
      "projection matrix:\n",
      " [[109.42516486   0.           0.           0.        ]\n",
      " [  0.         145.90021981   0.           0.        ]\n",
      " [  0.           0.          -1.002002    -1.        ]\n",
      " [  0.           0.          -0.2002002    0.        ]]\n",
      "NDC Point: [109.42516486 145.90021981 100.         100.        ]\n"
     ]
    }
   ],
   "source": [
    "import numpy as np\n",
    "import pyrr\n",
    "\n",
    "def main():\n",
    "    # 定义参考点（在世界坐标系中）\n",
    "    point = np.array([1.0, 1.0, -97, 1.0])  # 齐次坐标 (x, y, z, w)\n",
    "\n",
    "    # 定义模型矩阵（平移变换）\n",
    "    model_matrix = pyrr.matrix44.create_from_translation(np.array([0.0, 0.0, 0.0]))\n",
    "\n",
    "    # 定义视图矩阵（相机位置和方向）\n",
    "    view_matrix = pyrr.matrix44.create_look_at(\n",
    "        eye=np.array([0.0, 0.0, 3.0]),  # 相机位置\n",
    "        target=np.array([0.0, 0.0, 0.0]),  # 观察目标\n",
    "        up=np.array([0.0, 1.0, 0.0])  # 上方向\n",
    "    )\n",
    "    #打印经过model和view矩阵变换后的坐标\n",
    "    print(\"Model Point:\", point @ model_matrix)\n",
    "    print(\"View Point:\", point @ model_matrix @ view_matrix)\n",
    "\n",
    "    # 定义投影矩阵（透视投影）\n",
    "    projection_matrix = pyrr.matrix44.create_perspective_projection_matrix(\n",
    "        fovy=np.radians(45.0),  # 视野角度\n",
    "        aspect=800.0 / 600.0,  # 纵横比\n",
    "        near=0.1,  # 近裁剪面\n",
    "        far=100.0  # 远裁剪面\n",
    "    )\n",
    "    print(\"projection matrix:\\n\",projection_matrix)\n",
    "\n",
    "    # 计算 MVP 矩阵\n",
    "    mvp_matrix = projection_matrix @ view_matrix @ model_matrix\n",
    "\n",
    "    # 将参考点转换到 NDC 空间\n",
    "    ndc_point = point @ model_matrix@view_matrix@projection_matrix\n",
    "\n",
    "    # 进行齐次除法\n",
    "    # ndc_point /= ndc_point[3]\n",
    "\n",
    "    # 打印结果\n",
    "    print(\"NDC Point:\", ndc_point[:4])  # 打印 x, y, z 坐标\n",
    "\n",
    "if __name__ == \"__main__\":\n",
    "    main()\n"
   ]
  },
  {
   "cell_type": "code",
   "execution_count": 1,
   "metadata": {},
   "outputs": [
    {
     "name": "stdout",
     "output_type": "stream",
     "text": [
      "hello\n"
     ]
    }
   ],
   "source": [
    "print(\"hello\")"
   ]
  },
  {
   "cell_type": "code",
   "execution_count": null,
   "metadata": {},
   "outputs": [],
   "source": []
  }
 ],
 "metadata": {
  "kernelspec": {
   "display_name": "base",
   "language": "python",
   "name": "python3"
  },
  "language_info": {
   "codemirror_mode": {
    "name": "ipython",
    "version": 3
   },
   "file_extension": ".py",
   "mimetype": "text/x-python",
   "name": "python",
   "nbconvert_exporter": "python",
   "pygments_lexer": "ipython3",
   "version": "3.9.12"
  }
 },
 "nbformat": 4,
 "nbformat_minor": 2
}
